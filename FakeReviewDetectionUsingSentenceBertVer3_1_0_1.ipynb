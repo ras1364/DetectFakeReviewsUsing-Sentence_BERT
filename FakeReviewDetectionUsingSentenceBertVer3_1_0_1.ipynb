{
  "nbformat": 4,
  "nbformat_minor": 0,
  "metadata": {
    "colab": {
      "provenance": [],
      "mount_file_id": "1nS1Vxxy7yra-z2H436oHl7KMAxT_QAU6",
      "authorship_tag": "ABX9TyM5QnVHABf3WL72bdRJWzEu",
      "include_colab_link": true
    },
    "kernelspec": {
      "name": "python3",
      "display_name": "Python 3"
    },
    "language_info": {
      "name": "python"
    },
    "widgets": {
      "application/vnd.jupyter.widget-state+json": {
        "75182e053e09449bb67c6ba2f55b2a1b": {
          "model_module": "@jupyter-widgets/controls",
          "model_name": "HBoxModel",
          "model_module_version": "1.5.0",
          "state": {
            "_dom_classes": [],
            "_model_module": "@jupyter-widgets/controls",
            "_model_module_version": "1.5.0",
            "_model_name": "HBoxModel",
            "_view_count": null,
            "_view_module": "@jupyter-widgets/controls",
            "_view_module_version": "1.5.0",
            "_view_name": "HBoxView",
            "box_style": "",
            "children": [
              "IPY_MODEL_a4b301e1b1be425fb30a343196351311",
              "IPY_MODEL_8efd4cb396e84d7da1ff38d3fc2fb44b",
              "IPY_MODEL_1d8d251276af440cb7a0bd999c654504"
            ],
            "layout": "IPY_MODEL_780856c6c9234bfd86eb5fe7f3e64161"
          }
        },
        "a4b301e1b1be425fb30a343196351311": {
          "model_module": "@jupyter-widgets/controls",
          "model_name": "HTMLModel",
          "model_module_version": "1.5.0",
          "state": {
            "_dom_classes": [],
            "_model_module": "@jupyter-widgets/controls",
            "_model_module_version": "1.5.0",
            "_model_name": "HTMLModel",
            "_view_count": null,
            "_view_module": "@jupyter-widgets/controls",
            "_view_module_version": "1.5.0",
            "_view_name": "HTMLView",
            "description": "",
            "description_tooltip": null,
            "layout": "IPY_MODEL_7e96449700814a92ae5517a359d123f1",
            "placeholder": "​",
            "style": "IPY_MODEL_3a61a52708a5444487c59ae5b545b707",
            "value": "Batches: 100%"
          }
        },
        "8efd4cb396e84d7da1ff38d3fc2fb44b": {
          "model_module": "@jupyter-widgets/controls",
          "model_name": "FloatProgressModel",
          "model_module_version": "1.5.0",
          "state": {
            "_dom_classes": [],
            "_model_module": "@jupyter-widgets/controls",
            "_model_module_version": "1.5.0",
            "_model_name": "FloatProgressModel",
            "_view_count": null,
            "_view_module": "@jupyter-widgets/controls",
            "_view_module_version": "1.5.0",
            "_view_name": "ProgressView",
            "bar_style": "success",
            "description": "",
            "description_tooltip": null,
            "layout": "IPY_MODEL_69eeeebbbfcd4db3b86a8efe7a55a2aa",
            "max": 38,
            "min": 0,
            "orientation": "horizontal",
            "style": "IPY_MODEL_b2a0296f1b924da2bba427fa3541b520",
            "value": 38
          }
        },
        "1d8d251276af440cb7a0bd999c654504": {
          "model_module": "@jupyter-widgets/controls",
          "model_name": "HTMLModel",
          "model_module_version": "1.5.0",
          "state": {
            "_dom_classes": [],
            "_model_module": "@jupyter-widgets/controls",
            "_model_module_version": "1.5.0",
            "_model_name": "HTMLModel",
            "_view_count": null,
            "_view_module": "@jupyter-widgets/controls",
            "_view_module_version": "1.5.0",
            "_view_name": "HTMLView",
            "description": "",
            "description_tooltip": null,
            "layout": "IPY_MODEL_a15f5c7549d34b4087ec15c966c6f498",
            "placeholder": "​",
            "style": "IPY_MODEL_32877d9108854301b0f843599b4077c5",
            "value": " 38/38 [02:02&lt;00:00,  1.51it/s]"
          }
        },
        "780856c6c9234bfd86eb5fe7f3e64161": {
          "model_module": "@jupyter-widgets/base",
          "model_name": "LayoutModel",
          "model_module_version": "1.2.0",
          "state": {
            "_model_module": "@jupyter-widgets/base",
            "_model_module_version": "1.2.0",
            "_model_name": "LayoutModel",
            "_view_count": null,
            "_view_module": "@jupyter-widgets/base",
            "_view_module_version": "1.2.0",
            "_view_name": "LayoutView",
            "align_content": null,
            "align_items": null,
            "align_self": null,
            "border": null,
            "bottom": null,
            "display": null,
            "flex": null,
            "flex_flow": null,
            "grid_area": null,
            "grid_auto_columns": null,
            "grid_auto_flow": null,
            "grid_auto_rows": null,
            "grid_column": null,
            "grid_gap": null,
            "grid_row": null,
            "grid_template_areas": null,
            "grid_template_columns": null,
            "grid_template_rows": null,
            "height": null,
            "justify_content": null,
            "justify_items": null,
            "left": null,
            "margin": null,
            "max_height": null,
            "max_width": null,
            "min_height": null,
            "min_width": null,
            "object_fit": null,
            "object_position": null,
            "order": null,
            "overflow": null,
            "overflow_x": null,
            "overflow_y": null,
            "padding": null,
            "right": null,
            "top": null,
            "visibility": null,
            "width": null
          }
        },
        "7e96449700814a92ae5517a359d123f1": {
          "model_module": "@jupyter-widgets/base",
          "model_name": "LayoutModel",
          "model_module_version": "1.2.0",
          "state": {
            "_model_module": "@jupyter-widgets/base",
            "_model_module_version": "1.2.0",
            "_model_name": "LayoutModel",
            "_view_count": null,
            "_view_module": "@jupyter-widgets/base",
            "_view_module_version": "1.2.0",
            "_view_name": "LayoutView",
            "align_content": null,
            "align_items": null,
            "align_self": null,
            "border": null,
            "bottom": null,
            "display": null,
            "flex": null,
            "flex_flow": null,
            "grid_area": null,
            "grid_auto_columns": null,
            "grid_auto_flow": null,
            "grid_auto_rows": null,
            "grid_column": null,
            "grid_gap": null,
            "grid_row": null,
            "grid_template_areas": null,
            "grid_template_columns": null,
            "grid_template_rows": null,
            "height": null,
            "justify_content": null,
            "justify_items": null,
            "left": null,
            "margin": null,
            "max_height": null,
            "max_width": null,
            "min_height": null,
            "min_width": null,
            "object_fit": null,
            "object_position": null,
            "order": null,
            "overflow": null,
            "overflow_x": null,
            "overflow_y": null,
            "padding": null,
            "right": null,
            "top": null,
            "visibility": null,
            "width": null
          }
        },
        "3a61a52708a5444487c59ae5b545b707": {
          "model_module": "@jupyter-widgets/controls",
          "model_name": "DescriptionStyleModel",
          "model_module_version": "1.5.0",
          "state": {
            "_model_module": "@jupyter-widgets/controls",
            "_model_module_version": "1.5.0",
            "_model_name": "DescriptionStyleModel",
            "_view_count": null,
            "_view_module": "@jupyter-widgets/base",
            "_view_module_version": "1.2.0",
            "_view_name": "StyleView",
            "description_width": ""
          }
        },
        "69eeeebbbfcd4db3b86a8efe7a55a2aa": {
          "model_module": "@jupyter-widgets/base",
          "model_name": "LayoutModel",
          "model_module_version": "1.2.0",
          "state": {
            "_model_module": "@jupyter-widgets/base",
            "_model_module_version": "1.2.0",
            "_model_name": "LayoutModel",
            "_view_count": null,
            "_view_module": "@jupyter-widgets/base",
            "_view_module_version": "1.2.0",
            "_view_name": "LayoutView",
            "align_content": null,
            "align_items": null,
            "align_self": null,
            "border": null,
            "bottom": null,
            "display": null,
            "flex": null,
            "flex_flow": null,
            "grid_area": null,
            "grid_auto_columns": null,
            "grid_auto_flow": null,
            "grid_auto_rows": null,
            "grid_column": null,
            "grid_gap": null,
            "grid_row": null,
            "grid_template_areas": null,
            "grid_template_columns": null,
            "grid_template_rows": null,
            "height": null,
            "justify_content": null,
            "justify_items": null,
            "left": null,
            "margin": null,
            "max_height": null,
            "max_width": null,
            "min_height": null,
            "min_width": null,
            "object_fit": null,
            "object_position": null,
            "order": null,
            "overflow": null,
            "overflow_x": null,
            "overflow_y": null,
            "padding": null,
            "right": null,
            "top": null,
            "visibility": null,
            "width": null
          }
        },
        "b2a0296f1b924da2bba427fa3541b520": {
          "model_module": "@jupyter-widgets/controls",
          "model_name": "ProgressStyleModel",
          "model_module_version": "1.5.0",
          "state": {
            "_model_module": "@jupyter-widgets/controls",
            "_model_module_version": "1.5.0",
            "_model_name": "ProgressStyleModel",
            "_view_count": null,
            "_view_module": "@jupyter-widgets/base",
            "_view_module_version": "1.2.0",
            "_view_name": "StyleView",
            "bar_color": null,
            "description_width": ""
          }
        },
        "a15f5c7549d34b4087ec15c966c6f498": {
          "model_module": "@jupyter-widgets/base",
          "model_name": "LayoutModel",
          "model_module_version": "1.2.0",
          "state": {
            "_model_module": "@jupyter-widgets/base",
            "_model_module_version": "1.2.0",
            "_model_name": "LayoutModel",
            "_view_count": null,
            "_view_module": "@jupyter-widgets/base",
            "_view_module_version": "1.2.0",
            "_view_name": "LayoutView",
            "align_content": null,
            "align_items": null,
            "align_self": null,
            "border": null,
            "bottom": null,
            "display": null,
            "flex": null,
            "flex_flow": null,
            "grid_area": null,
            "grid_auto_columns": null,
            "grid_auto_flow": null,
            "grid_auto_rows": null,
            "grid_column": null,
            "grid_gap": null,
            "grid_row": null,
            "grid_template_areas": null,
            "grid_template_columns": null,
            "grid_template_rows": null,
            "height": null,
            "justify_content": null,
            "justify_items": null,
            "left": null,
            "margin": null,
            "max_height": null,
            "max_width": null,
            "min_height": null,
            "min_width": null,
            "object_fit": null,
            "object_position": null,
            "order": null,
            "overflow": null,
            "overflow_x": null,
            "overflow_y": null,
            "padding": null,
            "right": null,
            "top": null,
            "visibility": null,
            "width": null
          }
        },
        "32877d9108854301b0f843599b4077c5": {
          "model_module": "@jupyter-widgets/controls",
          "model_name": "DescriptionStyleModel",
          "model_module_version": "1.5.0",
          "state": {
            "_model_module": "@jupyter-widgets/controls",
            "_model_module_version": "1.5.0",
            "_model_name": "DescriptionStyleModel",
            "_view_count": null,
            "_view_module": "@jupyter-widgets/base",
            "_view_module_version": "1.2.0",
            "_view_name": "StyleView",
            "description_width": ""
          }
        },
        "c76f7ff3b9014befb09427bd65624f04": {
          "model_module": "@jupyter-widgets/controls",
          "model_name": "HBoxModel",
          "model_module_version": "1.5.0",
          "state": {
            "_dom_classes": [],
            "_model_module": "@jupyter-widgets/controls",
            "_model_module_version": "1.5.0",
            "_model_name": "HBoxModel",
            "_view_count": null,
            "_view_module": "@jupyter-widgets/controls",
            "_view_module_version": "1.5.0",
            "_view_name": "HBoxView",
            "box_style": "",
            "children": [
              "IPY_MODEL_5479f122cc0b4280b3b296c93e0dc437",
              "IPY_MODEL_60aa50117e43421eb08bf8e7f5fc274f",
              "IPY_MODEL_274e42fc0ae24c41b299191894858fdf"
            ],
            "layout": "IPY_MODEL_69b471ec26da4648808cfea0bf038521"
          }
        },
        "5479f122cc0b4280b3b296c93e0dc437": {
          "model_module": "@jupyter-widgets/controls",
          "model_name": "HTMLModel",
          "model_module_version": "1.5.0",
          "state": {
            "_dom_classes": [],
            "_model_module": "@jupyter-widgets/controls",
            "_model_module_version": "1.5.0",
            "_model_name": "HTMLModel",
            "_view_count": null,
            "_view_module": "@jupyter-widgets/controls",
            "_view_module_version": "1.5.0",
            "_view_name": "HTMLView",
            "description": "",
            "description_tooltip": null,
            "layout": "IPY_MODEL_f73601f6edd042bb95d5acc8ed5718ad",
            "placeholder": "​",
            "style": "IPY_MODEL_4fe35c728c9d49a28ecf68988f982375",
            "value": "Batches: 100%"
          }
        },
        "60aa50117e43421eb08bf8e7f5fc274f": {
          "model_module": "@jupyter-widgets/controls",
          "model_name": "FloatProgressModel",
          "model_module_version": "1.5.0",
          "state": {
            "_dom_classes": [],
            "_model_module": "@jupyter-widgets/controls",
            "_model_module_version": "1.5.0",
            "_model_name": "FloatProgressModel",
            "_view_count": null,
            "_view_module": "@jupyter-widgets/controls",
            "_view_module_version": "1.5.0",
            "_view_name": "ProgressView",
            "bar_style": "success",
            "description": "",
            "description_tooltip": null,
            "layout": "IPY_MODEL_f8e0067027454c39bb1a45c279f73340",
            "max": 13,
            "min": 0,
            "orientation": "horizontal",
            "style": "IPY_MODEL_e1306814c5314b559e06339d5f1d795c",
            "value": 13
          }
        },
        "274e42fc0ae24c41b299191894858fdf": {
          "model_module": "@jupyter-widgets/controls",
          "model_name": "HTMLModel",
          "model_module_version": "1.5.0",
          "state": {
            "_dom_classes": [],
            "_model_module": "@jupyter-widgets/controls",
            "_model_module_version": "1.5.0",
            "_model_name": "HTMLModel",
            "_view_count": null,
            "_view_module": "@jupyter-widgets/controls",
            "_view_module_version": "1.5.0",
            "_view_name": "HTMLView",
            "description": "",
            "description_tooltip": null,
            "layout": "IPY_MODEL_1b8c95ecd41044aebef9743609d33a91",
            "placeholder": "​",
            "style": "IPY_MODEL_bc01488c53cd4cbb9df38cc8dd62c34a",
            "value": " 13/13 [00:34&lt;00:00,  1.40s/it]"
          }
        },
        "69b471ec26da4648808cfea0bf038521": {
          "model_module": "@jupyter-widgets/base",
          "model_name": "LayoutModel",
          "model_module_version": "1.2.0",
          "state": {
            "_model_module": "@jupyter-widgets/base",
            "_model_module_version": "1.2.0",
            "_model_name": "LayoutModel",
            "_view_count": null,
            "_view_module": "@jupyter-widgets/base",
            "_view_module_version": "1.2.0",
            "_view_name": "LayoutView",
            "align_content": null,
            "align_items": null,
            "align_self": null,
            "border": null,
            "bottom": null,
            "display": null,
            "flex": null,
            "flex_flow": null,
            "grid_area": null,
            "grid_auto_columns": null,
            "grid_auto_flow": null,
            "grid_auto_rows": null,
            "grid_column": null,
            "grid_gap": null,
            "grid_row": null,
            "grid_template_areas": null,
            "grid_template_columns": null,
            "grid_template_rows": null,
            "height": null,
            "justify_content": null,
            "justify_items": null,
            "left": null,
            "margin": null,
            "max_height": null,
            "max_width": null,
            "min_height": null,
            "min_width": null,
            "object_fit": null,
            "object_position": null,
            "order": null,
            "overflow": null,
            "overflow_x": null,
            "overflow_y": null,
            "padding": null,
            "right": null,
            "top": null,
            "visibility": null,
            "width": null
          }
        },
        "f73601f6edd042bb95d5acc8ed5718ad": {
          "model_module": "@jupyter-widgets/base",
          "model_name": "LayoutModel",
          "model_module_version": "1.2.0",
          "state": {
            "_model_module": "@jupyter-widgets/base",
            "_model_module_version": "1.2.0",
            "_model_name": "LayoutModel",
            "_view_count": null,
            "_view_module": "@jupyter-widgets/base",
            "_view_module_version": "1.2.0",
            "_view_name": "LayoutView",
            "align_content": null,
            "align_items": null,
            "align_self": null,
            "border": null,
            "bottom": null,
            "display": null,
            "flex": null,
            "flex_flow": null,
            "grid_area": null,
            "grid_auto_columns": null,
            "grid_auto_flow": null,
            "grid_auto_rows": null,
            "grid_column": null,
            "grid_gap": null,
            "grid_row": null,
            "grid_template_areas": null,
            "grid_template_columns": null,
            "grid_template_rows": null,
            "height": null,
            "justify_content": null,
            "justify_items": null,
            "left": null,
            "margin": null,
            "max_height": null,
            "max_width": null,
            "min_height": null,
            "min_width": null,
            "object_fit": null,
            "object_position": null,
            "order": null,
            "overflow": null,
            "overflow_x": null,
            "overflow_y": null,
            "padding": null,
            "right": null,
            "top": null,
            "visibility": null,
            "width": null
          }
        },
        "4fe35c728c9d49a28ecf68988f982375": {
          "model_module": "@jupyter-widgets/controls",
          "model_name": "DescriptionStyleModel",
          "model_module_version": "1.5.0",
          "state": {
            "_model_module": "@jupyter-widgets/controls",
            "_model_module_version": "1.5.0",
            "_model_name": "DescriptionStyleModel",
            "_view_count": null,
            "_view_module": "@jupyter-widgets/base",
            "_view_module_version": "1.2.0",
            "_view_name": "StyleView",
            "description_width": ""
          }
        },
        "f8e0067027454c39bb1a45c279f73340": {
          "model_module": "@jupyter-widgets/base",
          "model_name": "LayoutModel",
          "model_module_version": "1.2.0",
          "state": {
            "_model_module": "@jupyter-widgets/base",
            "_model_module_version": "1.2.0",
            "_model_name": "LayoutModel",
            "_view_count": null,
            "_view_module": "@jupyter-widgets/base",
            "_view_module_version": "1.2.0",
            "_view_name": "LayoutView",
            "align_content": null,
            "align_items": null,
            "align_self": null,
            "border": null,
            "bottom": null,
            "display": null,
            "flex": null,
            "flex_flow": null,
            "grid_area": null,
            "grid_auto_columns": null,
            "grid_auto_flow": null,
            "grid_auto_rows": null,
            "grid_column": null,
            "grid_gap": null,
            "grid_row": null,
            "grid_template_areas": null,
            "grid_template_columns": null,
            "grid_template_rows": null,
            "height": null,
            "justify_content": null,
            "justify_items": null,
            "left": null,
            "margin": null,
            "max_height": null,
            "max_width": null,
            "min_height": null,
            "min_width": null,
            "object_fit": null,
            "object_position": null,
            "order": null,
            "overflow": null,
            "overflow_x": null,
            "overflow_y": null,
            "padding": null,
            "right": null,
            "top": null,
            "visibility": null,
            "width": null
          }
        },
        "e1306814c5314b559e06339d5f1d795c": {
          "model_module": "@jupyter-widgets/controls",
          "model_name": "ProgressStyleModel",
          "model_module_version": "1.5.0",
          "state": {
            "_model_module": "@jupyter-widgets/controls",
            "_model_module_version": "1.5.0",
            "_model_name": "ProgressStyleModel",
            "_view_count": null,
            "_view_module": "@jupyter-widgets/base",
            "_view_module_version": "1.2.0",
            "_view_name": "StyleView",
            "bar_color": null,
            "description_width": ""
          }
        },
        "1b8c95ecd41044aebef9743609d33a91": {
          "model_module": "@jupyter-widgets/base",
          "model_name": "LayoutModel",
          "model_module_version": "1.2.0",
          "state": {
            "_model_module": "@jupyter-widgets/base",
            "_model_module_version": "1.2.0",
            "_model_name": "LayoutModel",
            "_view_count": null,
            "_view_module": "@jupyter-widgets/base",
            "_view_module_version": "1.2.0",
            "_view_name": "LayoutView",
            "align_content": null,
            "align_items": null,
            "align_self": null,
            "border": null,
            "bottom": null,
            "display": null,
            "flex": null,
            "flex_flow": null,
            "grid_area": null,
            "grid_auto_columns": null,
            "grid_auto_flow": null,
            "grid_auto_rows": null,
            "grid_column": null,
            "grid_gap": null,
            "grid_row": null,
            "grid_template_areas": null,
            "grid_template_columns": null,
            "grid_template_rows": null,
            "height": null,
            "justify_content": null,
            "justify_items": null,
            "left": null,
            "margin": null,
            "max_height": null,
            "max_width": null,
            "min_height": null,
            "min_width": null,
            "object_fit": null,
            "object_position": null,
            "order": null,
            "overflow": null,
            "overflow_x": null,
            "overflow_y": null,
            "padding": null,
            "right": null,
            "top": null,
            "visibility": null,
            "width": null
          }
        },
        "bc01488c53cd4cbb9df38cc8dd62c34a": {
          "model_module": "@jupyter-widgets/controls",
          "model_name": "DescriptionStyleModel",
          "model_module_version": "1.5.0",
          "state": {
            "_model_module": "@jupyter-widgets/controls",
            "_model_module_version": "1.5.0",
            "_model_name": "DescriptionStyleModel",
            "_view_count": null,
            "_view_module": "@jupyter-widgets/base",
            "_view_module_version": "1.2.0",
            "_view_name": "StyleView",
            "description_width": ""
          }
        }
      }
    }
  },
  "cells": [
    {
      "cell_type": "markdown",
      "metadata": {
        "id": "view-in-github",
        "colab_type": "text"
      },
      "source": [
        "<a href=\"https://colab.research.google.com/github/ras1364/DetectFakeReviewsUsing-Sentence_BERT/blob/main/FakeReviewDetectionUsingSentenceBertVer3_1_0_1.ipynb\" target=\"_parent\"><img src=\"https://colab.research.google.com/assets/colab-badge.svg\" alt=\"Open In Colab\"/></a>"
      ]
    },
    {
      "cell_type": "markdown",
      "source": [
        "**In this code, comments are sent to the Sentence BERT encoder regardless of the number of sentences, and its output is sent to the Dence network.**"
      ],
      "metadata": {
        "id": "1aAOYqnQ80pE"
      }
    },
    {
      "cell_type": "code",
      "execution_count": 121,
      "metadata": {
        "id": "1PdDVhRexpxq"
      },
      "outputs": [],
      "source": [
        "import pandas as pd\n",
        "import numpy as np"
      ]
    },
    {
      "cell_type": "code",
      "source": [
        "from google.colab import files\n",
        "uploaded = files.upload()"
      ],
      "metadata": {
        "id": "z14wlzOcp_Cq",
        "outputId": "1311b369-a2d9-4d60-bbdc-f57d57083791",
        "colab": {
          "base_uri": "https://localhost:8080/",
          "height": 177
        }
      },
      "execution_count": 122,
      "outputs": [
        {
          "output_type": "display_data",
          "data": {
            "text/plain": [
              "<IPython.core.display.HTML object>"
            ],
            "text/html": [
              "\n",
              "     <input type=\"file\" id=\"files-dd895e26-87c2-4364-a427-838ecafafc40\" name=\"files[]\" multiple disabled\n",
              "        style=\"border:none\" />\n",
              "     <output id=\"result-dd895e26-87c2-4364-a427-838ecafafc40\">\n",
              "      Upload widget is only available when the cell has been executed in the\n",
              "      current browser session. Please rerun this cell to enable.\n",
              "      </output>\n",
              "      <script>// Copyright 2017 Google LLC\n",
              "//\n",
              "// Licensed under the Apache License, Version 2.0 (the \"License\");\n",
              "// you may not use this file except in compliance with the License.\n",
              "// You may obtain a copy of the License at\n",
              "//\n",
              "//      http://www.apache.org/licenses/LICENSE-2.0\n",
              "//\n",
              "// Unless required by applicable law or agreed to in writing, software\n",
              "// distributed under the License is distributed on an \"AS IS\" BASIS,\n",
              "// WITHOUT WARRANTIES OR CONDITIONS OF ANY KIND, either express or implied.\n",
              "// See the License for the specific language governing permissions and\n",
              "// limitations under the License.\n",
              "\n",
              "/**\n",
              " * @fileoverview Helpers for google.colab Python module.\n",
              " */\n",
              "(function(scope) {\n",
              "function span(text, styleAttributes = {}) {\n",
              "  const element = document.createElement('span');\n",
              "  element.textContent = text;\n",
              "  for (const key of Object.keys(styleAttributes)) {\n",
              "    element.style[key] = styleAttributes[key];\n",
              "  }\n",
              "  return element;\n",
              "}\n",
              "\n",
              "// Max number of bytes which will be uploaded at a time.\n",
              "const MAX_PAYLOAD_SIZE = 100 * 1024;\n",
              "\n",
              "function _uploadFiles(inputId, outputId) {\n",
              "  const steps = uploadFilesStep(inputId, outputId);\n",
              "  const outputElement = document.getElementById(outputId);\n",
              "  // Cache steps on the outputElement to make it available for the next call\n",
              "  // to uploadFilesContinue from Python.\n",
              "  outputElement.steps = steps;\n",
              "\n",
              "  return _uploadFilesContinue(outputId);\n",
              "}\n",
              "\n",
              "// This is roughly an async generator (not supported in the browser yet),\n",
              "// where there are multiple asynchronous steps and the Python side is going\n",
              "// to poll for completion of each step.\n",
              "// This uses a Promise to block the python side on completion of each step,\n",
              "// then passes the result of the previous step as the input to the next step.\n",
              "function _uploadFilesContinue(outputId) {\n",
              "  const outputElement = document.getElementById(outputId);\n",
              "  const steps = outputElement.steps;\n",
              "\n",
              "  const next = steps.next(outputElement.lastPromiseValue);\n",
              "  return Promise.resolve(next.value.promise).then((value) => {\n",
              "    // Cache the last promise value to make it available to the next\n",
              "    // step of the generator.\n",
              "    outputElement.lastPromiseValue = value;\n",
              "    return next.value.response;\n",
              "  });\n",
              "}\n",
              "\n",
              "/**\n",
              " * Generator function which is called between each async step of the upload\n",
              " * process.\n",
              " * @param {string} inputId Element ID of the input file picker element.\n",
              " * @param {string} outputId Element ID of the output display.\n",
              " * @return {!Iterable<!Object>} Iterable of next steps.\n",
              " */\n",
              "function* uploadFilesStep(inputId, outputId) {\n",
              "  const inputElement = document.getElementById(inputId);\n",
              "  inputElement.disabled = false;\n",
              "\n",
              "  const outputElement = document.getElementById(outputId);\n",
              "  outputElement.innerHTML = '';\n",
              "\n",
              "  const pickedPromise = new Promise((resolve) => {\n",
              "    inputElement.addEventListener('change', (e) => {\n",
              "      resolve(e.target.files);\n",
              "    });\n",
              "  });\n",
              "\n",
              "  const cancel = document.createElement('button');\n",
              "  inputElement.parentElement.appendChild(cancel);\n",
              "  cancel.textContent = 'Cancel upload';\n",
              "  const cancelPromise = new Promise((resolve) => {\n",
              "    cancel.onclick = () => {\n",
              "      resolve(null);\n",
              "    };\n",
              "  });\n",
              "\n",
              "  // Wait for the user to pick the files.\n",
              "  const files = yield {\n",
              "    promise: Promise.race([pickedPromise, cancelPromise]),\n",
              "    response: {\n",
              "      action: 'starting',\n",
              "    }\n",
              "  };\n",
              "\n",
              "  cancel.remove();\n",
              "\n",
              "  // Disable the input element since further picks are not allowed.\n",
              "  inputElement.disabled = true;\n",
              "\n",
              "  if (!files) {\n",
              "    return {\n",
              "      response: {\n",
              "        action: 'complete',\n",
              "      }\n",
              "    };\n",
              "  }\n",
              "\n",
              "  for (const file of files) {\n",
              "    const li = document.createElement('li');\n",
              "    li.append(span(file.name, {fontWeight: 'bold'}));\n",
              "    li.append(span(\n",
              "        `(${file.type || 'n/a'}) - ${file.size} bytes, ` +\n",
              "        `last modified: ${\n",
              "            file.lastModifiedDate ? file.lastModifiedDate.toLocaleDateString() :\n",
              "                                    'n/a'} - `));\n",
              "    const percent = span('0% done');\n",
              "    li.appendChild(percent);\n",
              "\n",
              "    outputElement.appendChild(li);\n",
              "\n",
              "    const fileDataPromise = new Promise((resolve) => {\n",
              "      const reader = new FileReader();\n",
              "      reader.onload = (e) => {\n",
              "        resolve(e.target.result);\n",
              "      };\n",
              "      reader.readAsArrayBuffer(file);\n",
              "    });\n",
              "    // Wait for the data to be ready.\n",
              "    let fileData = yield {\n",
              "      promise: fileDataPromise,\n",
              "      response: {\n",
              "        action: 'continue',\n",
              "      }\n",
              "    };\n",
              "\n",
              "    // Use a chunked sending to avoid message size limits. See b/62115660.\n",
              "    let position = 0;\n",
              "    do {\n",
              "      const length = Math.min(fileData.byteLength - position, MAX_PAYLOAD_SIZE);\n",
              "      const chunk = new Uint8Array(fileData, position, length);\n",
              "      position += length;\n",
              "\n",
              "      const base64 = btoa(String.fromCharCode.apply(null, chunk));\n",
              "      yield {\n",
              "        response: {\n",
              "          action: 'append',\n",
              "          file: file.name,\n",
              "          data: base64,\n",
              "        },\n",
              "      };\n",
              "\n",
              "      let percentDone = fileData.byteLength === 0 ?\n",
              "          100 :\n",
              "          Math.round((position / fileData.byteLength) * 100);\n",
              "      percent.textContent = `${percentDone}% done`;\n",
              "\n",
              "    } while (position < fileData.byteLength);\n",
              "  }\n",
              "\n",
              "  // All done.\n",
              "  yield {\n",
              "    response: {\n",
              "      action: 'complete',\n",
              "    }\n",
              "  };\n",
              "}\n",
              "\n",
              "scope.google = scope.google || {};\n",
              "scope.google.colab = scope.google.colab || {};\n",
              "scope.google.colab._files = {\n",
              "  _uploadFiles,\n",
              "  _uploadFilesContinue,\n",
              "};\n",
              "})(self);\n",
              "</script> "
            ]
          },
          "metadata": {}
        },
        {
          "output_type": "stream",
          "name": "stdout",
          "text": [
            "Saving X_test.csv to X_test (1).csv\n",
            "Saving X_train.csv to X_train (1).csv\n",
            "Saving y_test.csv to y_test (1).csv\n",
            "Saving y_train.csv to y_train (1).csv\n"
          ]
        }
      ]
    },
    {
      "cell_type": "code",
      "source": [
        "X_test = pd.read_csv(\"/content/X_test.csv\")\n",
        "X_train = pd.read_csv(\"/content/X_train.csv\")\n",
        "y_test = pd.read_csv(\"/content/y_test.csv\")\n",
        "y_train = pd.read_csv(\"/content/y_train.csv\")"
      ],
      "metadata": {
        "id": "L3jbVEROyLEC"
      },
      "execution_count": 123,
      "outputs": []
    },
    {
      "cell_type": "code",
      "source": [
        "max_length = 384\n",
        "for x in range(0,len(X_train)):\n",
        "  line = X_train.loc[x].at[\"text\"]\n",
        "  if max_length < len(line.split()) :\n",
        "    max_length = len(line.split())\n",
        "\n",
        "print(max_length)\n"
      ],
      "metadata": {
        "colab": {
          "base_uri": "https://localhost:8080/"
        },
        "id": "E_IU66B2rG_e",
        "outputId": "ef06e9e1-99fb-47c4-c958-dfa6171cb8d2"
      },
      "execution_count": 124,
      "outputs": [
        {
          "output_type": "stream",
          "name": "stdout",
          "text": [
            "649\n"
          ]
        }
      ]
    },
    {
      "cell_type": "code",
      "source": [
        "from gensim.parsing.preprocessing import remove_stopwords\n",
        "\n",
        "def preprocess(text):\n",
        "  return remove_stopwords(text)\n",
        "\n",
        "X_train[\"stemmed_text_data\"] = X_train[\"text\"].map(preprocess)\n",
        "X_test[\"stemmed_text_data\"] = X_test[\"text\"].map(preprocess)"
      ],
      "metadata": {
        "id": "9wpXnXU0q9sx"
      },
      "execution_count": 125,
      "outputs": []
    },
    {
      "cell_type": "code",
      "source": [
        "!pip install sentence-transformers\n",
        "from sentence_transformers import SentenceTransformer\n",
        "sbert_model = SentenceTransformer('all-MiniLM-L6-v2')\n"
      ],
      "metadata": {
        "id": "aqJxHbdjkiXL",
        "outputId": "a083c265-481e-4e76-9586-842a8403ee2f",
        "colab": {
          "base_uri": "https://localhost:8080/"
        }
      },
      "execution_count": 126,
      "outputs": [
        {
          "output_type": "stream",
          "name": "stdout",
          "text": [
            "Looking in indexes: https://pypi.org/simple, https://us-python.pkg.dev/colab-wheels/public/simple/\n",
            "Requirement already satisfied: sentence-transformers in /usr/local/lib/python3.8/dist-packages (2.2.2)\n",
            "Requirement already satisfied: transformers<5.0.0,>=4.6.0 in /usr/local/lib/python3.8/dist-packages (from sentence-transformers) (4.26.1)\n",
            "Requirement already satisfied: tqdm in /usr/local/lib/python3.8/dist-packages (from sentence-transformers) (4.64.1)\n",
            "Requirement already satisfied: torch>=1.6.0 in /usr/local/lib/python3.8/dist-packages (from sentence-transformers) (1.13.1+cu116)\n",
            "Requirement already satisfied: torchvision in /usr/local/lib/python3.8/dist-packages (from sentence-transformers) (0.14.1+cu116)\n",
            "Requirement already satisfied: scikit-learn in /usr/local/lib/python3.8/dist-packages (from sentence-transformers) (1.2.1)\n",
            "Requirement already satisfied: nltk in /usr/local/lib/python3.8/dist-packages (from sentence-transformers) (3.7)\n",
            "Requirement already satisfied: sentencepiece in /usr/local/lib/python3.8/dist-packages (from sentence-transformers) (0.1.97)\n",
            "Requirement already satisfied: huggingface-hub>=0.4.0 in /usr/local/lib/python3.8/dist-packages (from sentence-transformers) (0.12.1)\n",
            "Requirement already satisfied: numpy in /usr/local/lib/python3.8/dist-packages (from sentence-transformers) (1.22.4)\n",
            "Requirement already satisfied: scipy in /usr/local/lib/python3.8/dist-packages (from sentence-transformers) (1.10.1)\n",
            "Requirement already satisfied: requests in /usr/local/lib/python3.8/dist-packages (from huggingface-hub>=0.4.0->sentence-transformers) (2.25.1)\n",
            "Requirement already satisfied: typing-extensions>=3.7.4.3 in /usr/local/lib/python3.8/dist-packages (from huggingface-hub>=0.4.0->sentence-transformers) (4.5.0)\n",
            "Requirement already satisfied: pyyaml>=5.1 in /usr/local/lib/python3.8/dist-packages (from huggingface-hub>=0.4.0->sentence-transformers) (6.0)\n",
            "Requirement already satisfied: filelock in /usr/local/lib/python3.8/dist-packages (from huggingface-hub>=0.4.0->sentence-transformers) (3.9.0)\n",
            "Requirement already satisfied: packaging>=20.9 in /usr/local/lib/python3.8/dist-packages (from huggingface-hub>=0.4.0->sentence-transformers) (23.0)\n",
            "Requirement already satisfied: regex!=2019.12.17 in /usr/local/lib/python3.8/dist-packages (from transformers<5.0.0,>=4.6.0->sentence-transformers) (2022.6.2)\n",
            "Requirement already satisfied: tokenizers!=0.11.3,<0.14,>=0.11.1 in /usr/local/lib/python3.8/dist-packages (from transformers<5.0.0,>=4.6.0->sentence-transformers) (0.13.2)\n",
            "Requirement already satisfied: click in /usr/local/lib/python3.8/dist-packages (from nltk->sentence-transformers) (8.1.3)\n",
            "Requirement already satisfied: joblib in /usr/local/lib/python3.8/dist-packages (from nltk->sentence-transformers) (1.2.0)\n",
            "Requirement already satisfied: threadpoolctl>=2.0.0 in /usr/local/lib/python3.8/dist-packages (from scikit-learn->sentence-transformers) (3.1.0)\n",
            "Requirement already satisfied: pillow!=8.3.*,>=5.3.0 in /usr/local/lib/python3.8/dist-packages (from torchvision->sentence-transformers) (8.4.0)\n",
            "Requirement already satisfied: chardet<5,>=3.0.2 in /usr/local/lib/python3.8/dist-packages (from requests->huggingface-hub>=0.4.0->sentence-transformers) (4.0.0)\n",
            "Requirement already satisfied: urllib3<1.27,>=1.21.1 in /usr/local/lib/python3.8/dist-packages (from requests->huggingface-hub>=0.4.0->sentence-transformers) (1.26.14)\n",
            "Requirement already satisfied: certifi>=2017.4.17 in /usr/local/lib/python3.8/dist-packages (from requests->huggingface-hub>=0.4.0->sentence-transformers) (2022.12.7)\n",
            "Requirement already satisfied: idna<3,>=2.5 in /usr/local/lib/python3.8/dist-packages (from requests->huggingface-hub>=0.4.0->sentence-transformers) (2.10)\n"
          ]
        }
      ]
    },
    {
      "cell_type": "code",
      "source": [
        "X_train_encoded = sbert_model.encode(X_train[\"stemmed_text_data\"] ,  show_progress_bar=True)\n",
        "X_test_encoded = sbert_model.encode(X_test[\"stemmed_text_data\"], show_progress_bar=True)"
      ],
      "metadata": {
        "id": "kv10bLr4kbfo",
        "outputId": "1af1c35b-e261-4b55-f35d-e6f69aecc16c",
        "colab": {
          "base_uri": "https://localhost:8080/",
          "height": 81,
          "referenced_widgets": [
            "75182e053e09449bb67c6ba2f55b2a1b",
            "a4b301e1b1be425fb30a343196351311",
            "8efd4cb396e84d7da1ff38d3fc2fb44b",
            "1d8d251276af440cb7a0bd999c654504",
            "780856c6c9234bfd86eb5fe7f3e64161",
            "7e96449700814a92ae5517a359d123f1",
            "3a61a52708a5444487c59ae5b545b707",
            "69eeeebbbfcd4db3b86a8efe7a55a2aa",
            "b2a0296f1b924da2bba427fa3541b520",
            "a15f5c7549d34b4087ec15c966c6f498",
            "32877d9108854301b0f843599b4077c5",
            "c76f7ff3b9014befb09427bd65624f04",
            "5479f122cc0b4280b3b296c93e0dc437",
            "60aa50117e43421eb08bf8e7f5fc274f",
            "274e42fc0ae24c41b299191894858fdf",
            "69b471ec26da4648808cfea0bf038521",
            "f73601f6edd042bb95d5acc8ed5718ad",
            "4fe35c728c9d49a28ecf68988f982375",
            "f8e0067027454c39bb1a45c279f73340",
            "e1306814c5314b559e06339d5f1d795c",
            "1b8c95ecd41044aebef9743609d33a91",
            "bc01488c53cd4cbb9df38cc8dd62c34a"
          ]
        }
      },
      "execution_count": 127,
      "outputs": [
        {
          "output_type": "display_data",
          "data": {
            "text/plain": [
              "Batches:   0%|          | 0/38 [00:00<?, ?it/s]"
            ],
            "application/vnd.jupyter.widget-view+json": {
              "version_major": 2,
              "version_minor": 0,
              "model_id": "75182e053e09449bb67c6ba2f55b2a1b"
            }
          },
          "metadata": {}
        },
        {
          "output_type": "display_data",
          "data": {
            "text/plain": [
              "Batches:   0%|          | 0/13 [00:00<?, ?it/s]"
            ],
            "application/vnd.jupyter.widget-view+json": {
              "version_major": 2,
              "version_minor": 0,
              "model_id": "c76f7ff3b9014befb09427bd65624f04"
            }
          },
          "metadata": {}
        }
      ]
    },
    {
      "cell_type": "code",
      "source": [
        "print(\"X_train.shape = \" , X_train_encoded.shape, \" y_train.shape = \", y_train[\"deceptive\"].shape)\n",
        "print(\"X_test.shape = \" , X_test_encoded.shape, \" y_test.shape = \", y_test[\"deceptive\"].shape)"
      ],
      "metadata": {
        "id": "Zp1RQ7EEoK2p",
        "outputId": "597e7d75-f7c7-438a-c11c-40c7b90ab18b",
        "colab": {
          "base_uri": "https://localhost:8080/"
        }
      },
      "execution_count": 128,
      "outputs": [
        {
          "output_type": "stream",
          "name": "stdout",
          "text": [
            "X_train.shape =  (1200, 384)  y_train.shape =  (1200,)\n",
            "X_test.shape =  (400, 384)  y_test.shape =  (400,)\n"
          ]
        }
      ]
    },
    {
      "cell_type": "code",
      "source": [
        "import tensorflow as tf\n",
        "from keras.models import Sequential\n",
        "from keras.layers import Dense\n",
        "from keras.layers import Dropout\n",
        "\n",
        "# define and fit the final model\n",
        "METRICS = [\n",
        "      tf.keras.metrics.BinaryAccuracy(name='accuracy'),\n",
        "      tf.keras.metrics.Precision(name='precision'),\n",
        "      tf.keras.metrics.Recall(name='recall')\n",
        "   ] \n",
        "model = Sequential()\n",
        "model.add(Dense(64, input_shape=(384,), activation='relu'))\n",
        "model.add(Dropout(0.2))\n",
        "model.add(Dense(32, activation='relu'))\n",
        "model.add(Dropout(0.2))\n",
        "model.add(Dense(1, activation='sigmoid'))\n",
        "model.compile(loss='binary_crossentropy', optimizer='adam', metrics=METRICS)"
      ],
      "metadata": {
        "id": "OMgQ8Bi6eD9D"
      },
      "execution_count": 163,
      "outputs": []
    },
    {
      "cell_type": "code",
      "source": [
        "model.summary()"
      ],
      "metadata": {
        "colab": {
          "base_uri": "https://localhost:8080/"
        },
        "id": "-_B3UyR4eHEe",
        "outputId": "9b0bb924-4e7f-43e6-d3ef-c24b3fde542d"
      },
      "execution_count": 164,
      "outputs": [
        {
          "output_type": "stream",
          "name": "stdout",
          "text": [
            "Model: \"sequential_11\"\n",
            "_________________________________________________________________\n",
            " Layer (type)                Output Shape              Param #   \n",
            "=================================================================\n",
            " dense_36 (Dense)            (None, 64)                24640     \n",
            "                                                                 \n",
            " dropout_6 (Dropout)         (None, 64)                0         \n",
            "                                                                 \n",
            " dense_37 (Dense)            (None, 32)                2080      \n",
            "                                                                 \n",
            " dropout_7 (Dropout)         (None, 32)                0         \n",
            "                                                                 \n",
            " dense_38 (Dense)            (None, 1)                 33        \n",
            "                                                                 \n",
            "=================================================================\n",
            "Total params: 26,753\n",
            "Trainable params: 26,753\n",
            "Non-trainable params: 0\n",
            "_________________________________________________________________\n"
          ]
        }
      ]
    },
    {
      "cell_type": "code",
      "source": [
        "y_train_final = y_train.deceptive\n",
        "model.fit(X_train_encoded,y_train_final, epochs=100, batch_size=64, verbose=1)"
      ],
      "metadata": {
        "colab": {
          "base_uri": "https://localhost:8080/"
        },
        "id": "LfRCHqVJgKIa",
        "outputId": "49827a54-edd1-4222-fff6-01382b5966a0"
      },
      "execution_count": 165,
      "outputs": [
        {
          "output_type": "stream",
          "name": "stdout",
          "text": [
            "Epoch 1/100\n",
            "19/19 [==============================] - 2s 6ms/step - loss: 0.6847 - accuracy: 0.5817 - precision: 0.6189 - recall: 0.4250\n",
            "Epoch 2/100\n",
            "19/19 [==============================] - 0s 7ms/step - loss: 0.6527 - accuracy: 0.7025 - precision: 0.7314 - recall: 0.6400\n",
            "Epoch 3/100\n",
            "19/19 [==============================] - 0s 5ms/step - loss: 0.6010 - accuracy: 0.7325 - precision: 0.7560 - recall: 0.6867\n",
            "Epoch 4/100\n",
            "19/19 [==============================] - 0s 4ms/step - loss: 0.5422 - accuracy: 0.7625 - precision: 0.7683 - recall: 0.7517\n",
            "Epoch 5/100\n",
            "19/19 [==============================] - 0s 4ms/step - loss: 0.4846 - accuracy: 0.7817 - precision: 0.7975 - recall: 0.7550\n",
            "Epoch 6/100\n",
            "19/19 [==============================] - 0s 4ms/step - loss: 0.4481 - accuracy: 0.7983 - precision: 0.8055 - recall: 0.7867\n",
            "Epoch 7/100\n",
            "19/19 [==============================] - 0s 5ms/step - loss: 0.4242 - accuracy: 0.8125 - precision: 0.8216 - recall: 0.7983\n",
            "Epoch 8/100\n",
            "19/19 [==============================] - 0s 4ms/step - loss: 0.3931 - accuracy: 0.8242 - precision: 0.8348 - recall: 0.8083\n",
            "Epoch 9/100\n",
            "19/19 [==============================] - 0s 4ms/step - loss: 0.3767 - accuracy: 0.8417 - precision: 0.8547 - recall: 0.8233\n",
            "Epoch 10/100\n",
            "19/19 [==============================] - 0s 4ms/step - loss: 0.3496 - accuracy: 0.8558 - precision: 0.8675 - recall: 0.8400\n",
            "Epoch 11/100\n",
            "19/19 [==============================] - 0s 4ms/step - loss: 0.3413 - accuracy: 0.8608 - precision: 0.8792 - recall: 0.8367\n",
            "Epoch 12/100\n",
            "19/19 [==============================] - 0s 4ms/step - loss: 0.3322 - accuracy: 0.8700 - precision: 0.8750 - recall: 0.8633\n",
            "Epoch 13/100\n",
            "19/19 [==============================] - 0s 4ms/step - loss: 0.3234 - accuracy: 0.8717 - precision: 0.8818 - recall: 0.8583\n",
            "Epoch 14/100\n",
            "19/19 [==============================] - 0s 4ms/step - loss: 0.3030 - accuracy: 0.8817 - precision: 0.8908 - recall: 0.8700\n",
            "Epoch 15/100\n",
            "19/19 [==============================] - 0s 5ms/step - loss: 0.2932 - accuracy: 0.8825 - precision: 0.8870 - recall: 0.8767\n",
            "Epoch 16/100\n",
            "19/19 [==============================] - 0s 4ms/step - loss: 0.2715 - accuracy: 0.8950 - precision: 0.8937 - recall: 0.8967\n",
            "Epoch 17/100\n",
            "19/19 [==============================] - 0s 4ms/step - loss: 0.2609 - accuracy: 0.9000 - precision: 0.9082 - recall: 0.8900\n",
            "Epoch 18/100\n",
            "19/19 [==============================] - 0s 5ms/step - loss: 0.2570 - accuracy: 0.8983 - precision: 0.9121 - recall: 0.8817\n",
            "Epoch 19/100\n",
            "19/19 [==============================] - 0s 4ms/step - loss: 0.2324 - accuracy: 0.9108 - precision: 0.9061 - recall: 0.9167\n",
            "Epoch 20/100\n",
            "19/19 [==============================] - 0s 4ms/step - loss: 0.2304 - accuracy: 0.9133 - precision: 0.9261 - recall: 0.8983\n",
            "Epoch 21/100\n",
            "19/19 [==============================] - 0s 4ms/step - loss: 0.2126 - accuracy: 0.9217 - precision: 0.9203 - recall: 0.9233\n",
            "Epoch 22/100\n",
            "19/19 [==============================] - 0s 4ms/step - loss: 0.2025 - accuracy: 0.9300 - precision: 0.9314 - recall: 0.9283\n",
            "Epoch 23/100\n",
            "19/19 [==============================] - 0s 4ms/step - loss: 0.1913 - accuracy: 0.9292 - precision: 0.9313 - recall: 0.9267\n",
            "Epoch 24/100\n",
            "19/19 [==============================] - 0s 4ms/step - loss: 0.1736 - accuracy: 0.9350 - precision: 0.9424 - recall: 0.9267\n",
            "Epoch 25/100\n",
            "19/19 [==============================] - 0s 4ms/step - loss: 0.1628 - accuracy: 0.9450 - precision: 0.9541 - recall: 0.9350\n",
            "Epoch 26/100\n",
            "19/19 [==============================] - 0s 5ms/step - loss: 0.1537 - accuracy: 0.9508 - precision: 0.9516 - recall: 0.9500\n",
            "Epoch 27/100\n",
            "19/19 [==============================] - 0s 4ms/step - loss: 0.1534 - accuracy: 0.9550 - precision: 0.9707 - recall: 0.9383\n",
            "Epoch 28/100\n",
            "19/19 [==============================] - 0s 4ms/step - loss: 0.1415 - accuracy: 0.9592 - precision: 0.9584 - recall: 0.9600\n",
            "Epoch 29/100\n",
            "19/19 [==============================] - 0s 4ms/step - loss: 0.1198 - accuracy: 0.9650 - precision: 0.9697 - recall: 0.9600\n",
            "Epoch 30/100\n",
            "19/19 [==============================] - 0s 4ms/step - loss: 0.1220 - accuracy: 0.9650 - precision: 0.9681 - recall: 0.9617\n",
            "Epoch 31/100\n",
            "19/19 [==============================] - 0s 4ms/step - loss: 0.1162 - accuracy: 0.9642 - precision: 0.9634 - recall: 0.9650\n",
            "Epoch 32/100\n",
            "19/19 [==============================] - 0s 4ms/step - loss: 0.1021 - accuracy: 0.9700 - precision: 0.9796 - recall: 0.9600\n",
            "Epoch 33/100\n",
            "19/19 [==============================] - 0s 4ms/step - loss: 0.1016 - accuracy: 0.9733 - precision: 0.9765 - recall: 0.9700\n",
            "Epoch 34/100\n",
            "19/19 [==============================] - 0s 4ms/step - loss: 0.0898 - accuracy: 0.9800 - precision: 0.9784 - recall: 0.9817\n",
            "Epoch 35/100\n",
            "19/19 [==============================] - 0s 5ms/step - loss: 0.0959 - accuracy: 0.9758 - precision: 0.9815 - recall: 0.9700\n",
            "Epoch 36/100\n",
            "19/19 [==============================] - 0s 4ms/step - loss: 0.0801 - accuracy: 0.9817 - precision: 0.9833 - recall: 0.9800\n",
            "Epoch 37/100\n",
            "19/19 [==============================] - 0s 4ms/step - loss: 0.0729 - accuracy: 0.9858 - precision: 0.9866 - recall: 0.9850\n",
            "Epoch 38/100\n",
            "19/19 [==============================] - 0s 4ms/step - loss: 0.0683 - accuracy: 0.9875 - precision: 0.9867 - recall: 0.9883\n",
            "Epoch 39/100\n",
            "19/19 [==============================] - 0s 4ms/step - loss: 0.0726 - accuracy: 0.9842 - precision: 0.9882 - recall: 0.9800\n",
            "Epoch 40/100\n",
            "19/19 [==============================] - 0s 4ms/step - loss: 0.0656 - accuracy: 0.9850 - precision: 0.9834 - recall: 0.9867\n",
            "Epoch 41/100\n",
            "19/19 [==============================] - 0s 4ms/step - loss: 0.0568 - accuracy: 0.9900 - precision: 0.9916 - recall: 0.9883\n",
            "Epoch 42/100\n",
            "19/19 [==============================] - 0s 4ms/step - loss: 0.0588 - accuracy: 0.9867 - precision: 0.9883 - recall: 0.9850\n",
            "Epoch 43/100\n",
            "19/19 [==============================] - 0s 4ms/step - loss: 0.0527 - accuracy: 0.9900 - precision: 0.9868 - recall: 0.9933\n",
            "Epoch 44/100\n",
            "19/19 [==============================] - 0s 4ms/step - loss: 0.0581 - accuracy: 0.9817 - precision: 0.9865 - recall: 0.9767\n",
            "Epoch 45/100\n",
            "19/19 [==============================] - 0s 4ms/step - loss: 0.0486 - accuracy: 0.9908 - precision: 0.9884 - recall: 0.9933\n",
            "Epoch 46/100\n",
            "19/19 [==============================] - 0s 5ms/step - loss: 0.0410 - accuracy: 0.9958 - precision: 0.9950 - recall: 0.9967\n",
            "Epoch 47/100\n",
            "19/19 [==============================] - 0s 4ms/step - loss: 0.0435 - accuracy: 0.9875 - precision: 0.9867 - recall: 0.9883\n",
            "Epoch 48/100\n",
            "19/19 [==============================] - 0s 4ms/step - loss: 0.0359 - accuracy: 0.9958 - precision: 0.9934 - recall: 0.9983\n",
            "Epoch 49/100\n",
            "19/19 [==============================] - 0s 4ms/step - loss: 0.0347 - accuracy: 0.9942 - precision: 0.9950 - recall: 0.9933\n",
            "Epoch 50/100\n",
            "19/19 [==============================] - 0s 4ms/step - loss: 0.0353 - accuracy: 0.9942 - precision: 0.9933 - recall: 0.9950\n",
            "Epoch 51/100\n",
            "19/19 [==============================] - 0s 4ms/step - loss: 0.0318 - accuracy: 0.9942 - precision: 0.9917 - recall: 0.9967\n",
            "Epoch 52/100\n",
            "19/19 [==============================] - 0s 5ms/step - loss: 0.0317 - accuracy: 0.9942 - precision: 0.9966 - recall: 0.9917\n",
            "Epoch 53/100\n",
            "19/19 [==============================] - 0s 4ms/step - loss: 0.0279 - accuracy: 0.9942 - precision: 0.9933 - recall: 0.9950\n",
            "Epoch 54/100\n",
            "19/19 [==============================] - 0s 4ms/step - loss: 0.0334 - accuracy: 0.9925 - precision: 0.9884 - recall: 0.9967\n",
            "Epoch 55/100\n",
            "19/19 [==============================] - 0s 4ms/step - loss: 0.0302 - accuracy: 0.9942 - precision: 0.9950 - recall: 0.9933\n",
            "Epoch 56/100\n",
            "19/19 [==============================] - 0s 4ms/step - loss: 0.0357 - accuracy: 0.9883 - precision: 0.9900 - recall: 0.9867\n",
            "Epoch 57/100\n",
            "19/19 [==============================] - 0s 5ms/step - loss: 0.0285 - accuracy: 0.9942 - precision: 0.9933 - recall: 0.9950\n",
            "Epoch 58/100\n",
            "19/19 [==============================] - 0s 4ms/step - loss: 0.0224 - accuracy: 0.9958 - precision: 0.9934 - recall: 0.9983\n",
            "Epoch 59/100\n",
            "19/19 [==============================] - 0s 5ms/step - loss: 0.0236 - accuracy: 0.9958 - precision: 0.9934 - recall: 0.9983\n",
            "Epoch 60/100\n",
            "19/19 [==============================] - 0s 6ms/step - loss: 0.0237 - accuracy: 0.9942 - precision: 0.9933 - recall: 0.9950\n",
            "Epoch 61/100\n",
            "19/19 [==============================] - 0s 5ms/step - loss: 0.0226 - accuracy: 0.9933 - precision: 0.9917 - recall: 0.9950\n",
            "Epoch 62/100\n",
            "19/19 [==============================] - 0s 5ms/step - loss: 0.0179 - accuracy: 0.9992 - precision: 1.0000 - recall: 0.9983\n",
            "Epoch 63/100\n",
            "19/19 [==============================] - 0s 6ms/step - loss: 0.0205 - accuracy: 0.9950 - precision: 0.9934 - recall: 0.9967\n",
            "Epoch 64/100\n",
            "19/19 [==============================] - 0s 6ms/step - loss: 0.0158 - accuracy: 0.9975 - precision: 0.9967 - recall: 0.9983\n",
            "Epoch 65/100\n",
            "19/19 [==============================] - 0s 7ms/step - loss: 0.0182 - accuracy: 0.9967 - precision: 0.9967 - recall: 0.9967\n",
            "Epoch 66/100\n",
            "19/19 [==============================] - 0s 7ms/step - loss: 0.0184 - accuracy: 0.9967 - precision: 0.9983 - recall: 0.9950\n",
            "Epoch 67/100\n",
            "19/19 [==============================] - 0s 6ms/step - loss: 0.0161 - accuracy: 0.9967 - precision: 0.9967 - recall: 0.9967\n",
            "Epoch 68/100\n",
            "19/19 [==============================] - 0s 6ms/step - loss: 0.0151 - accuracy: 0.9967 - precision: 0.9967 - recall: 0.9967\n",
            "Epoch 69/100\n",
            "19/19 [==============================] - 0s 6ms/step - loss: 0.0133 - accuracy: 0.9992 - precision: 0.9983 - recall: 1.0000\n",
            "Epoch 70/100\n",
            "19/19 [==============================] - 0s 6ms/step - loss: 0.0119 - accuracy: 0.9992 - precision: 0.9983 - recall: 1.0000\n",
            "Epoch 71/100\n",
            "19/19 [==============================] - 0s 6ms/step - loss: 0.0173 - accuracy: 0.9967 - precision: 0.9950 - recall: 0.9983\n",
            "Epoch 72/100\n",
            "19/19 [==============================] - 0s 5ms/step - loss: 0.0136 - accuracy: 0.9983 - precision: 0.9983 - recall: 0.9983\n",
            "Epoch 73/100\n",
            "19/19 [==============================] - 0s 5ms/step - loss: 0.0127 - accuracy: 0.9967 - precision: 0.9983 - recall: 0.9950\n",
            "Epoch 74/100\n",
            "19/19 [==============================] - 0s 6ms/step - loss: 0.0145 - accuracy: 0.9983 - precision: 0.9967 - recall: 1.0000\n",
            "Epoch 75/100\n",
            "19/19 [==============================] - 0s 6ms/step - loss: 0.0134 - accuracy: 0.9975 - precision: 0.9967 - recall: 0.9983\n",
            "Epoch 76/100\n",
            "19/19 [==============================] - 0s 6ms/step - loss: 0.0139 - accuracy: 0.9983 - precision: 1.0000 - recall: 0.9967\n",
            "Epoch 77/100\n",
            "19/19 [==============================] - 0s 6ms/step - loss: 0.0107 - accuracy: 0.9983 - precision: 0.9983 - recall: 0.9983\n",
            "Epoch 78/100\n",
            "19/19 [==============================] - 0s 6ms/step - loss: 0.0118 - accuracy: 0.9975 - precision: 0.9967 - recall: 0.9983\n",
            "Epoch 79/100\n",
            "19/19 [==============================] - 0s 6ms/step - loss: 0.0084 - accuracy: 1.0000 - precision: 1.0000 - recall: 1.0000\n",
            "Epoch 80/100\n",
            "19/19 [==============================] - 0s 5ms/step - loss: 0.0093 - accuracy: 0.9992 - precision: 0.9983 - recall: 1.0000\n",
            "Epoch 81/100\n",
            "19/19 [==============================] - 0s 6ms/step - loss: 0.0099 - accuracy: 0.9983 - precision: 0.9983 - recall: 0.9983\n",
            "Epoch 82/100\n",
            "19/19 [==============================] - 0s 6ms/step - loss: 0.0128 - accuracy: 0.9975 - precision: 0.9983 - recall: 0.9967\n",
            "Epoch 83/100\n",
            "19/19 [==============================] - 0s 5ms/step - loss: 0.0108 - accuracy: 0.9967 - precision: 0.9950 - recall: 0.9983\n",
            "Epoch 84/100\n",
            "19/19 [==============================] - 0s 5ms/step - loss: 0.0069 - accuracy: 0.9992 - precision: 1.0000 - recall: 0.9983\n",
            "Epoch 85/100\n",
            "19/19 [==============================] - 0s 5ms/step - loss: 0.0063 - accuracy: 1.0000 - precision: 1.0000 - recall: 1.0000\n",
            "Epoch 86/100\n",
            "19/19 [==============================] - 0s 6ms/step - loss: 0.0095 - accuracy: 0.9983 - precision: 0.9983 - recall: 0.9983\n",
            "Epoch 87/100\n",
            "19/19 [==============================] - 0s 5ms/step - loss: 0.0108 - accuracy: 0.9967 - precision: 0.9950 - recall: 0.9983\n",
            "Epoch 88/100\n",
            "19/19 [==============================] - 0s 5ms/step - loss: 0.0081 - accuracy: 1.0000 - precision: 1.0000 - recall: 1.0000\n",
            "Epoch 89/100\n",
            "19/19 [==============================] - 0s 6ms/step - loss: 0.0076 - accuracy: 0.9992 - precision: 0.9983 - recall: 1.0000\n",
            "Epoch 90/100\n",
            "19/19 [==============================] - 0s 6ms/step - loss: 0.0093 - accuracy: 0.9967 - precision: 0.9950 - recall: 0.9983\n",
            "Epoch 91/100\n",
            "19/19 [==============================] - 0s 6ms/step - loss: 0.0067 - accuracy: 0.9992 - precision: 1.0000 - recall: 0.9983\n",
            "Epoch 92/100\n",
            "19/19 [==============================] - 0s 5ms/step - loss: 0.0094 - accuracy: 0.9975 - precision: 0.9967 - recall: 0.9983\n",
            "Epoch 93/100\n",
            "19/19 [==============================] - 0s 5ms/step - loss: 0.0097 - accuracy: 0.9975 - precision: 0.9967 - recall: 0.9983\n",
            "Epoch 94/100\n",
            "19/19 [==============================] - 0s 5ms/step - loss: 0.0071 - accuracy: 0.9992 - precision: 1.0000 - recall: 0.9983\n",
            "Epoch 95/100\n",
            "19/19 [==============================] - 0s 5ms/step - loss: 0.0078 - accuracy: 0.9992 - precision: 0.9983 - recall: 1.0000\n",
            "Epoch 96/100\n",
            "19/19 [==============================] - 0s 6ms/step - loss: 0.0075 - accuracy: 1.0000 - precision: 1.0000 - recall: 1.0000\n",
            "Epoch 97/100\n",
            "19/19 [==============================] - 0s 7ms/step - loss: 0.0080 - accuracy: 0.9967 - precision: 0.9967 - recall: 0.9967\n",
            "Epoch 98/100\n",
            "19/19 [==============================] - 0s 6ms/step - loss: 0.0125 - accuracy: 0.9983 - precision: 0.9983 - recall: 0.9983\n",
            "Epoch 99/100\n",
            "19/19 [==============================] - 0s 7ms/step - loss: 0.0059 - accuracy: 0.9983 - precision: 0.9983 - recall: 0.9983\n",
            "Epoch 100/100\n",
            "19/19 [==============================] - 0s 7ms/step - loss: 0.0059 - accuracy: 0.9992 - precision: 1.0000 - recall: 0.9983\n"
          ]
        },
        {
          "output_type": "execute_result",
          "data": {
            "text/plain": [
              "<keras.callbacks.History at 0x7f2ab2a1eb50>"
            ]
          },
          "metadata": {},
          "execution_count": 165
        }
      ]
    },
    {
      "cell_type": "code",
      "source": [
        "model.evaluate(X_test_encoded, y_test.deceptive)"
      ],
      "metadata": {
        "colab": {
          "base_uri": "https://localhost:8080/"
        },
        "id": "dj2aogEM5Al3",
        "outputId": "4316955b-a3c8-4312-c0f2-c5252e0009d5"
      },
      "execution_count": 166,
      "outputs": [
        {
          "output_type": "stream",
          "name": "stdout",
          "text": [
            "13/13 [==============================] - 0s 3ms/step - loss: 0.7204 - accuracy: 0.8300 - precision: 0.8548 - recall: 0.7950\n"
          ]
        },
        {
          "output_type": "execute_result",
          "data": {
            "text/plain": [
              "[0.7204470634460449,\n",
              " 0.8299999833106995,\n",
              " 0.8548387289047241,\n",
              " 0.7950000166893005]"
            ]
          },
          "metadata": {},
          "execution_count": 166
        }
      ]
    },
    {
      "cell_type": "code",
      "source": [
        "y_predicted = model.predict(X_test_encoded)\n",
        "y_predicted = y_predicted.flatten()"
      ],
      "metadata": {
        "colab": {
          "base_uri": "https://localhost:8080/"
        },
        "id": "L9mH40-h5Bd3",
        "outputId": "3458164e-453a-4120-cef0-fd10335af0da"
      },
      "execution_count": 167,
      "outputs": [
        {
          "output_type": "stream",
          "name": "stdout",
          "text": [
            "13/13 [==============================] - 0s 2ms/step\n"
          ]
        }
      ]
    },
    {
      "cell_type": "code",
      "source": [
        "import numpy as np\n",
        "y_predicted = np.where(y_predicted > 0.5, 1, 0)\n",
        "y_predicted"
      ],
      "metadata": {
        "colab": {
          "base_uri": "https://localhost:8080/"
        },
        "id": "fgCaVN7egA03",
        "outputId": "6368ba41-cc69-4a88-fde1-606762b597b1"
      },
      "execution_count": 168,
      "outputs": [
        {
          "output_type": "execute_result",
          "data": {
            "text/plain": [
              "array([1, 0, 0, 0, 1, 0, 1, 0, 1, 1, 0, 0, 1, 0, 1, 0, 0, 0, 0, 0, 0, 0,\n",
              "       0, 1, 0, 0, 1, 0, 0, 0, 0, 1, 1, 0, 1, 0, 0, 1, 1, 1, 0, 0, 1, 1,\n",
              "       1, 0, 0, 0, 1, 1, 1, 0, 0, 1, 0, 1, 1, 0, 0, 0, 1, 0, 0, 0, 0, 0,\n",
              "       0, 1, 0, 1, 1, 1, 1, 1, 1, 0, 1, 0, 1, 0, 0, 1, 0, 0, 1, 1, 0, 0,\n",
              "       0, 1, 1, 1, 0, 1, 1, 0, 0, 1, 0, 0, 0, 1, 1, 0, 0, 1, 0, 0, 1, 0,\n",
              "       0, 1, 0, 1, 1, 0, 0, 1, 1, 0, 1, 0, 0, 1, 1, 0, 1, 1, 0, 0, 1, 0,\n",
              "       0, 0, 1, 0, 1, 0, 0, 0, 1, 0, 0, 0, 1, 1, 0, 1, 0, 1, 0, 0, 0, 1,\n",
              "       1, 0, 0, 1, 0, 1, 1, 1, 0, 0, 0, 0, 1, 1, 0, 1, 0, 1, 1, 0, 1, 1,\n",
              "       0, 1, 0, 0, 1, 1, 0, 1, 0, 0, 1, 1, 1, 1, 1, 1, 1, 1, 1, 1, 1, 0,\n",
              "       0, 1, 0, 1, 1, 1, 0, 0, 0, 0, 0, 1, 0, 1, 1, 0, 1, 1, 0, 1, 1, 0,\n",
              "       1, 1, 0, 0, 1, 0, 0, 0, 0, 1, 0, 1, 0, 0, 1, 0, 0, 0, 0, 0, 1, 1,\n",
              "       0, 1, 0, 1, 0, 0, 0, 1, 0, 1, 1, 1, 0, 1, 0, 1, 0, 1, 1, 1, 0, 1,\n",
              "       0, 1, 1, 1, 0, 1, 1, 1, 1, 0, 1, 1, 0, 0, 0, 1, 0, 1, 0, 0, 0, 0,\n",
              "       0, 0, 1, 0, 1, 1, 1, 1, 0, 0, 0, 1, 0, 1, 0, 0, 1, 1, 0, 1, 1, 0,\n",
              "       1, 0, 0, 1, 1, 0, 0, 0, 1, 1, 0, 1, 0, 0, 1, 0, 1, 0, 0, 0, 0, 1,\n",
              "       1, 1, 0, 1, 0, 1, 1, 0, 0, 0, 1, 0, 0, 1, 0, 1, 1, 0, 0, 0, 0, 1,\n",
              "       0, 0, 0, 1, 0, 0, 0, 0, 0, 0, 0, 0, 1, 0, 0, 0, 1, 0, 0, 0, 1, 1,\n",
              "       1, 1, 1, 0, 0, 1, 1, 0, 1, 0, 0, 0, 1, 1, 0, 1, 0, 1, 1, 1, 1, 0,\n",
              "       1, 0, 1, 1])"
            ]
          },
          "metadata": {},
          "execution_count": 168
        }
      ]
    },
    {
      "cell_type": "code",
      "source": [
        "from sklearn.metrics import confusion_matrix, classification_report\n",
        "\n",
        "cm = confusion_matrix(y_test.deceptive, y_predicted)\n",
        "cm "
      ],
      "metadata": {
        "colab": {
          "base_uri": "https://localhost:8080/"
        },
        "id": "t6n4dB2BeiRj",
        "outputId": "d23a05fd-e337-4a1c-f63c-6c8bb9b5e102"
      },
      "execution_count": 169,
      "outputs": [
        {
          "output_type": "execute_result",
          "data": {
            "text/plain": [
              "array([[173,  27],\n",
              "       [ 41, 159]])"
            ]
          },
          "metadata": {},
          "execution_count": 169
        }
      ]
    },
    {
      "cell_type": "code",
      "source": [
        "from matplotlib import pyplot as plt\n",
        "import seaborn as sn\n",
        "sn.heatmap(cm, annot=True, fmt='d')\n",
        "plt.xlabel('Predicted')\n",
        "plt.ylabel('Truth')"
      ],
      "metadata": {
        "colab": {
          "base_uri": "https://localhost:8080/",
          "height": 296
        },
        "id": "Z-aCw0JtekH_",
        "outputId": "b52c2048-105c-45e5-924c-6558989af990"
      },
      "execution_count": 170,
      "outputs": [
        {
          "output_type": "execute_result",
          "data": {
            "text/plain": [
              "Text(33.0, 0.5, 'Truth')"
            ]
          },
          "metadata": {},
          "execution_count": 170
        },
        {
          "output_type": "display_data",
          "data": {
            "text/plain": [
              "<Figure size 432x288 with 2 Axes>"
            ],
            "image/png": "[encoded data removed]"
          },
          "metadata": {
            "needs_background": "light"
          }
        }
      ]
    },
    {
      "cell_type": "code",
      "source": [
        "print(classification_report(y_test.deceptive, y_predicted))"
      ],
      "metadata": {
        "id": "-0FMlnlsCynu",
        "outputId": "f4111ed3-bb8f-41c1-d25b-4ec07b2fe064",
        "colab": {
          "base_uri": "https://localhost:8080/"
        }
      },
      "execution_count": 171,
      "outputs": [
        {
          "output_type": "stream",
          "name": "stdout",
          "text": [
            "              precision    recall  f1-score   support\n",
            "\n",
            "           0       0.81      0.86      0.84       200\n",
            "           1       0.85      0.80      0.82       200\n",
            "\n",
            "    accuracy                           0.83       400\n",
            "   macro avg       0.83      0.83      0.83       400\n",
            "weighted avg       0.83      0.83      0.83       400\n",
            "\n"
          ]
        }
      ]
    }
  ]
}